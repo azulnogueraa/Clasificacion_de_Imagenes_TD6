{
  "nbformat": 4,
  "nbformat_minor": 0,
  "metadata": {
    "colab": {
      "provenance": [],
      "gpuType": "T4"
    },
    "kernelspec": {
      "name": "python3",
      "display_name": "Python 3"
    },
    "language_info": {
      "name": "python"
    },
    "accelerator": "GPU",
    "widgets": {
      "application/vnd.jupyter.widget-state+json": {
        "0c9ba9f86755424b9e0d0d422c026b63": {
          "model_module": "@jupyter-widgets/controls",
          "model_name": "VBoxModel",
          "model_module_version": "1.5.0",
          "state": {
            "_dom_classes": [],
            "_model_module": "@jupyter-widgets/controls",
            "_model_module_version": "1.5.0",
            "_model_name": "VBoxModel",
            "_view_count": null,
            "_view_module": "@jupyter-widgets/controls",
            "_view_module_version": "1.5.0",
            "_view_name": "VBoxView",
            "box_style": "",
            "children": [
              "IPY_MODEL_b3308e6c1d0043a5898efb4ba4effe6d",
              "IPY_MODEL_6d15e6442e754d15b62b94561b5c2448"
            ],
            "layout": "IPY_MODEL_ff62ea3e44894d1b88d4fb2943b35168"
          }
        },
        "b3308e6c1d0043a5898efb4ba4effe6d": {
          "model_module": "@jupyter-widgets/controls",
          "model_name": "LabelModel",
          "model_module_version": "1.5.0",
          "state": {
            "_dom_classes": [],
            "_model_module": "@jupyter-widgets/controls",
            "_model_module_version": "1.5.0",
            "_model_name": "LabelModel",
            "_view_count": null,
            "_view_module": "@jupyter-widgets/controls",
            "_view_module_version": "1.5.0",
            "_view_name": "LabelView",
            "description": "",
            "description_tooltip": null,
            "layout": "IPY_MODEL_05a651c2b0ad4144a15d7fce700db17b",
            "placeholder": "​",
            "style": "IPY_MODEL_a915d796226243378cbd5d7326958109",
            "value": "0.007 MB of 0.016 MB uploaded (0.000 MB deduped)\r"
          }
        },
        "6d15e6442e754d15b62b94561b5c2448": {
          "model_module": "@jupyter-widgets/controls",
          "model_name": "FloatProgressModel",
          "model_module_version": "1.5.0",
          "state": {
            "_dom_classes": [],
            "_model_module": "@jupyter-widgets/controls",
            "_model_module_version": "1.5.0",
            "_model_name": "FloatProgressModel",
            "_view_count": null,
            "_view_module": "@jupyter-widgets/controls",
            "_view_module_version": "1.5.0",
            "_view_name": "ProgressView",
            "bar_style": "",
            "description": "",
            "description_tooltip": null,
            "layout": "IPY_MODEL_bafa78cb556f47f2bfc4319331e8377e",
            "max": 1,
            "min": 0,
            "orientation": "horizontal",
            "style": "IPY_MODEL_15fb34560b004cfda81fc29993205840",
            "value": 0.4161614936954413
          }
        },
        "ff62ea3e44894d1b88d4fb2943b35168": {
          "model_module": "@jupyter-widgets/base",
          "model_name": "LayoutModel",
          "model_module_version": "1.2.0",
          "state": {
            "_model_module": "@jupyter-widgets/base",
            "_model_module_version": "1.2.0",
            "_model_name": "LayoutModel",
            "_view_count": null,
            "_view_module": "@jupyter-widgets/base",
            "_view_module_version": "1.2.0",
            "_view_name": "LayoutView",
            "align_content": null,
            "align_items": null,
            "align_self": null,
            "border": null,
            "bottom": null,
            "display": null,
            "flex": null,
            "flex_flow": null,
            "grid_area": null,
            "grid_auto_columns": null,
            "grid_auto_flow": null,
            "grid_auto_rows": null,
            "grid_column": null,
            "grid_gap": null,
            "grid_row": null,
            "grid_template_areas": null,
            "grid_template_columns": null,
            "grid_template_rows": null,
            "height": null,
            "justify_content": null,
            "justify_items": null,
            "left": null,
            "margin": null,
            "max_height": null,
            "max_width": null,
            "min_height": null,
            "min_width": null,
            "object_fit": null,
            "object_position": null,
            "order": null,
            "overflow": null,
            "overflow_x": null,
            "overflow_y": null,
            "padding": null,
            "right": null,
            "top": null,
            "visibility": null,
            "width": null
          }
        },
        "05a651c2b0ad4144a15d7fce700db17b": {
          "model_module": "@jupyter-widgets/base",
          "model_name": "LayoutModel",
          "model_module_version": "1.2.0",
          "state": {
            "_model_module": "@jupyter-widgets/base",
            "_model_module_version": "1.2.0",
            "_model_name": "LayoutModel",
            "_view_count": null,
            "_view_module": "@jupyter-widgets/base",
            "_view_module_version": "1.2.0",
            "_view_name": "LayoutView",
            "align_content": null,
            "align_items": null,
            "align_self": null,
            "border": null,
            "bottom": null,
            "display": null,
            "flex": null,
            "flex_flow": null,
            "grid_area": null,
            "grid_auto_columns": null,
            "grid_auto_flow": null,
            "grid_auto_rows": null,
            "grid_column": null,
            "grid_gap": null,
            "grid_row": null,
            "grid_template_areas": null,
            "grid_template_columns": null,
            "grid_template_rows": null,
            "height": null,
            "justify_content": null,
            "justify_items": null,
            "left": null,
            "margin": null,
            "max_height": null,
            "max_width": null,
            "min_height": null,
            "min_width": null,
            "object_fit": null,
            "object_position": null,
            "order": null,
            "overflow": null,
            "overflow_x": null,
            "overflow_y": null,
            "padding": null,
            "right": null,
            "top": null,
            "visibility": null,
            "width": null
          }
        },
        "a915d796226243378cbd5d7326958109": {
          "model_module": "@jupyter-widgets/controls",
          "model_name": "DescriptionStyleModel",
          "model_module_version": "1.5.0",
          "state": {
            "_model_module": "@jupyter-widgets/controls",
            "_model_module_version": "1.5.0",
            "_model_name": "DescriptionStyleModel",
            "_view_count": null,
            "_view_module": "@jupyter-widgets/base",
            "_view_module_version": "1.2.0",
            "_view_name": "StyleView",
            "description_width": ""
          }
        },
        "bafa78cb556f47f2bfc4319331e8377e": {
          "model_module": "@jupyter-widgets/base",
          "model_name": "LayoutModel",
          "model_module_version": "1.2.0",
          "state": {
            "_model_module": "@jupyter-widgets/base",
            "_model_module_version": "1.2.0",
            "_model_name": "LayoutModel",
            "_view_count": null,
            "_view_module": "@jupyter-widgets/base",
            "_view_module_version": "1.2.0",
            "_view_name": "LayoutView",
            "align_content": null,
            "align_items": null,
            "align_self": null,
            "border": null,
            "bottom": null,
            "display": null,
            "flex": null,
            "flex_flow": null,
            "grid_area": null,
            "grid_auto_columns": null,
            "grid_auto_flow": null,
            "grid_auto_rows": null,
            "grid_column": null,
            "grid_gap": null,
            "grid_row": null,
            "grid_template_areas": null,
            "grid_template_columns": null,
            "grid_template_rows": null,
            "height": null,
            "justify_content": null,
            "justify_items": null,
            "left": null,
            "margin": null,
            "max_height": null,
            "max_width": null,
            "min_height": null,
            "min_width": null,
            "object_fit": null,
            "object_position": null,
            "order": null,
            "overflow": null,
            "overflow_x": null,
            "overflow_y": null,
            "padding": null,
            "right": null,
            "top": null,
            "visibility": null,
            "width": null
          }
        },
        "15fb34560b004cfda81fc29993205840": {
          "model_module": "@jupyter-widgets/controls",
          "model_name": "ProgressStyleModel",
          "model_module_version": "1.5.0",
          "state": {
            "_model_module": "@jupyter-widgets/controls",
            "_model_module_version": "1.5.0",
            "_model_name": "ProgressStyleModel",
            "_view_count": null,
            "_view_module": "@jupyter-widgets/base",
            "_view_module_version": "1.2.0",
            "_view_name": "StyleView",
            "bar_color": null,
            "description_width": ""
          }
        }
      }
    }
  },
  "cells": [
    {
      "cell_type": "markdown",
      "source": [
        "# Configuración"
      ],
      "metadata": {
        "id": "5DllB-4f8I9c"
      }
    },
    {
      "cell_type": "code",
      "execution_count": 10,
      "metadata": {
        "id": "Bds-Vlsm75G8",
        "colab": {
          "base_uri": "https://localhost:8080/"
        },
        "outputId": "366800e9-158d-41e2-baae-272556056b7a"
      },
      "outputs": [
        {
          "output_type": "stream",
          "name": "stderr",
          "text": [
            "\u001b[34m\u001b[1mwandb\u001b[0m: Currently logged in as: \u001b[33mrochigonzalezcc\u001b[0m. Use \u001b[1m`wandb login --relogin`\u001b[0m to force relogin\n"
          ]
        }
      ],
      "source": [
        "# Configuración + Librerias\n",
        "\n",
        "!pip install -Uq wandb\n",
        "\n",
        "#librerias\n",
        "import torchvision\n",
        "import torchvision.transforms as transforms\n",
        "from torchvision.transforms import v2\n",
        "from sklearn.model_selection import train_test_split\n",
        "import torch.utils.data\n",
        "import numpy as np\n",
        "import wandb\n",
        "import torch\n",
        "import matplotlib.pyplot as plt\n",
        "import torch.nn as nn\n",
        "import torch.nn.functional as F\n",
        "import torch.optim as optim\n",
        "import time\n",
        "\n",
        "#login de wandb\n",
        "wandb.login()\n",
        "device = torch.device('cuda:0' if torch.cuda.is_available() else 'cpu')\n",
        "\n",
        "torch.manual_seed(7)\n",
        "if torch.cuda.is_available():\n",
        "    torch.cuda.manual_seed(7)\n"
      ]
    },
    {
      "cell_type": "markdown",
      "metadata": {
        "id": "ypCle3YXsNg1"
      },
      "source": [
        "\n",
        "\n",
        "# Ejercicio 8\n",
        "\n",
        "\n"
      ]
    },
    {
      "cell_type": "markdown",
      "source": [
        "### Parámetros"
      ],
      "metadata": {
        "id": "LxuytoHQcpE_"
      }
    },
    {
      "cell_type": "code",
      "source": [
        "#Parametros\n",
        "batch_size = 64\n",
        "learning_rate = 0.0001\n",
        "momentum =.9\n",
        "epochs = 30\n",
        "project_name = \"clasificación_img\""
      ],
      "metadata": {
        "id": "Ur--KHdQcr4O"
      },
      "execution_count": 11,
      "outputs": []
    },
    {
      "cell_type": "markdown",
      "source": [
        "### Transformaciones"
      ],
      "metadata": {
        "id": "MhXmvriDcsud"
      }
    },
    {
      "cell_type": "code",
      "source": [
        "train_transform = transforms.Compose([\n",
        "    transforms.RandomHorizontalFlip(),\n",
        "    transforms.ToTensor(),\n",
        "    transforms.Normalize(0, 1)\n",
        "])\n",
        "\n",
        "val_test_transform = transforms.Compose([\n",
        "    transforms.ToTensor(),\n",
        "    transforms.Normalize(0, 1)\n",
        "])"
      ],
      "metadata": {
        "id": "-YRW31QCdDTX"
      },
      "execution_count": 12,
      "outputs": []
    },
    {
      "cell_type": "markdown",
      "source": [
        "### Carga de datos"
      ],
      "metadata": {
        "id": "UvJSB_cadbVJ"
      }
    },
    {
      "cell_type": "code",
      "source": [
        "trainset = torchvision.datasets.CIFAR10(root='./data', train=True, download=True, transform=train_transform)\n",
        "\n",
        "targets_ = trainset.targets\n",
        "train_idx, val_idx = train_test_split(np.arange(len(targets_)), test_size=0.2, stratify=targets_)\n",
        "train_sampler = torch.utils.data.SubsetRandomSampler(train_idx)\n",
        "val_sampler = torch.utils.data.SubsetRandomSampler(val_idx)\n",
        "\n",
        "trainloader = torch.utils.data.DataLoader(trainset, sampler=train_sampler,batch_size=batch_size, num_workers=2)\n",
        "valloader = torch.utils.data.DataLoader(trainset, sampler=val_sampler,batch_size=batch_size, num_workers=2)\n",
        "\n",
        "testset = torchvision.datasets.CIFAR10(root='./data', train=False, download=True, transform=val_test_transform)\n",
        "testloader = torch.utils.data.DataLoader(testset, batch_size=batch_size, shuffle=False, num_workers=2)\n",
        "\n",
        "classes = ('plane', 'car', 'bird', 'cat',\n",
        "           'deer', 'dog', 'frog', 'horse', 'ship', 'truck')"
      ],
      "metadata": {
        "colab": {
          "base_uri": "https://localhost:8080/"
        },
        "id": "mKeN6-DOdZEZ",
        "outputId": "f1b65e15-775d-4237-9855-d4e5215d2423"
      },
      "execution_count": 13,
      "outputs": [
        {
          "output_type": "stream",
          "name": "stdout",
          "text": [
            "Files already downloaded and verified\n",
            "Files already downloaded and verified\n"
          ]
        }
      ]
    },
    {
      "cell_type": "markdown",
      "source": [
        "### Red"
      ],
      "metadata": {
        "id": "kZ8hHAv-dhvj"
      }
    },
    {
      "cell_type": "code",
      "source": [
        "class red_final(nn.Module):\n",
        "    def __init__(self):\n",
        "        super().__init__()\n",
        "        self.conv1 = nn.Conv2d(in_channels=3, out_channels=256, kernel_size=3, stride=1, padding=1)\n",
        "        self.bn1 = nn.BatchNorm2d(256)\n",
        "        self.conv2 = nn.Conv2d(in_channels=256, out_channels=512, kernel_size=3, stride=1, padding=1)\n",
        "        self.bn2 = nn.BatchNorm2d(512)\n",
        "        self.conv3 = nn.Conv2d(in_channels=512, out_channels=128, kernel_size=3, stride=1, padding=1)\n",
        "        self.bn3 = nn.BatchNorm2d(128)\n",
        "        self.fc1 = nn.Linear(128 * 4 * 4, 128)\n",
        "        self.dropout = nn.Dropout(0.2)  # Capa de dropout con probabilidad 0.2\n",
        "        self.fc2 = nn.Linear(128, 10)\n",
        "\n",
        "    def forward(self, x):\n",
        "        x = nn.GELU()(self.bn1(self.conv1(x)))\n",
        "        x = nn.MaxPool2d(kernel_size=2, stride=2)(x)\n",
        "        x = nn.GELU()(self.bn2(self.conv2(x)))\n",
        "        x = nn.MaxPool2d(kernel_size=2, stride=2)(x)\n",
        "        x = nn.GELU()(self.bn3(self.conv3(x)))\n",
        "        x = nn.MaxPool2d(kernel_size=2, stride=2)(x)\n",
        "        x = torch.flatten(x, 1)\n",
        "        x = nn.GELU()(self.fc1(x))\n",
        "        x = self.dropout(x)  # Aplicar dropout a la salida de la primera capa lineal\n",
        "        x = self.fc2(x)\n",
        "        return x"
      ],
      "metadata": {
        "id": "dlAyRP9Ccgup"
      },
      "execution_count": 14,
      "outputs": []
    },
    {
      "cell_type": "markdown",
      "source": [
        "### Modelo"
      ],
      "metadata": {
        "id": "_z7nUPoCH2wg"
      }
    },
    {
      "cell_type": "code",
      "source": [
        "experiment_name = \"red_final\"\n",
        "net = red_final()\n",
        "net.to(device)"
      ],
      "metadata": {
        "id": "i02zxX3FdpfK",
        "colab": {
          "base_uri": "https://localhost:8080/"
        },
        "outputId": "834d5350-07d2-4150-ee57-a9014976fc50"
      },
      "execution_count": 15,
      "outputs": [
        {
          "output_type": "execute_result",
          "data": {
            "text/plain": [
              "red_final(\n",
              "  (conv1): Conv2d(3, 256, kernel_size=(3, 3), stride=(1, 1), padding=(1, 1))\n",
              "  (bn1): BatchNorm2d(256, eps=1e-05, momentum=0.1, affine=True, track_running_stats=True)\n",
              "  (conv2): Conv2d(256, 512, kernel_size=(3, 3), stride=(1, 1), padding=(1, 1))\n",
              "  (bn2): BatchNorm2d(512, eps=1e-05, momentum=0.1, affine=True, track_running_stats=True)\n",
              "  (conv3): Conv2d(512, 128, kernel_size=(3, 3), stride=(1, 1), padding=(1, 1))\n",
              "  (bn3): BatchNorm2d(128, eps=1e-05, momentum=0.1, affine=True, track_running_stats=True)\n",
              "  (fc1): Linear(in_features=2048, out_features=128, bias=True)\n",
              "  (dropout): Dropout(p=0.2, inplace=False)\n",
              "  (fc2): Linear(in_features=128, out_features=10, bias=True)\n",
              ")"
            ]
          },
          "metadata": {},
          "execution_count": 15
        }
      ]
    },
    {
      "cell_type": "markdown",
      "source": [
        "### Loss y Optimizador"
      ],
      "metadata": {
        "id": "fA4S2Jn_dvGS"
      }
    },
    {
      "cell_type": "code",
      "source": [
        "criterion = nn.CrossEntropyLoss()\n",
        "optimizer = optim.Adam(net.parameters(), lr=learning_rate)"
      ],
      "metadata": {
        "id": "0YQxbjhAdxwA"
      },
      "execution_count": 16,
      "outputs": []
    },
    {
      "cell_type": "markdown",
      "source": [
        "### Entrenamiento"
      ],
      "metadata": {
        "id": "IV2dlmO51qVy"
      }
    },
    {
      "cell_type": "code",
      "source": [
        "wandb.init(\n",
        "    project= project_name,\n",
        "    entity = 'tp3-td6',\n",
        "    name = experiment_name,\n",
        "\n",
        "    # Hiperparametros\n",
        "    config={\n",
        "        \"learning_rate\": learning_rate,\n",
        "        \"momentum\": momentum,\n",
        "        \"batch_size\": batch_size,\n",
        "        \"epochs\": epochs,\n",
        "    }\n",
        ")\n",
        "\n",
        "start = time.time()\n",
        "\n",
        "val_accuracies = []\n",
        "train_losses = []\n",
        "val_losses = []\n",
        "best_val_accuracy = 0.0\n",
        "best_epoch = 0\n",
        "\n",
        "# loop over the dataset multiple times\n",
        "for epoch in range(epochs):\n",
        "\n",
        "    running_loss = 0.0\n",
        "    train_correct = 0\n",
        "    total = 0\n",
        "\n",
        "    for i, data in enumerate(trainloader, 0):\n",
        "\n",
        "        # Se obtinen los imputs (imagenes) y las labels\n",
        "        inputs = data[0].to(device)\n",
        "        labels = data[1].to(device)\n",
        "\n",
        "        # zero the parameter gradients\n",
        "        optimizer.zero_grad()\n",
        "\n",
        "        # forward + backward + optimize\n",
        "        outputs = net(inputs)\n",
        "        loss = criterion(outputs, labels)\n",
        "        loss.backward()\n",
        "        optimizer.step()\n",
        "\n",
        "        # print statistics\n",
        "        running_loss += loss.item()\n",
        "        if i % 200 == 199:    # print every 200 mini-batches\n",
        "            print(f'[{epoch + 1}, {i + 1:5d}] loss: {running_loss / 2000:.3f}')\n",
        "\n",
        "\n",
        "        _, predicted = torch.max(outputs.data, 1)\n",
        "        total += labels.size(0)\n",
        "        train_correct += (predicted == labels).sum().item()\n",
        "\n",
        "\n",
        "    # End of test section\n",
        "    # Val section\n",
        "    train_accuracy = 100 * train_correct / total\n",
        "    running_loss = running_loss/total\n",
        "\n",
        "    val_correct = 0\n",
        "    total =0\n",
        "    val_loss =0\n",
        "\n",
        "    # since we're not training, we don't need to calculate the gradients for our outputs\n",
        "    with torch.no_grad():\n",
        "        for data in valloader:\n",
        "            images, labels = data[0].to(device), data[1].to(device)\n",
        "            # calculate outputs by running images through the network\n",
        "            outputs = net(images)\n",
        "            # the class with the highest energy is what we choose as prediction\n",
        "            _, predicted = torch.max(outputs.data, 1)\n",
        "            total += labels.size(0)\n",
        "            val_correct += (predicted == labels).sum().item()\n",
        "            val_loss += criterion(outputs, labels).item()\n",
        "\n",
        "    # End of test section\n",
        "\n",
        "    val_accuracy = 100 * val_correct / total\n",
        "    val_loss = val_loss / total\n",
        "\n",
        "    val_accuracies.append(val_accuracy)\n",
        "\n",
        "    train_losses.append(running_loss / total)\n",
        "    val_losses.append(val_loss / total)\n",
        "\n",
        "    if val_accuracy > best_val_accuracy:\n",
        "        best_epoch = epoch\n",
        "        best_val_accuracy = val_accuracy\n",
        "\n",
        "\n",
        "    print(f\"Guardando el modelo para la época {best_epoch}.\")\n",
        "    torch.save(net.state_dict(), f'{experiment_name}.pth')\n",
        "\n",
        "    print('Epoch: {}/{}..'.format(epoch+1, epochs),\n",
        "          'Training loss: {:.3f}..'.format(running_loss / total),\n",
        "          'Val loss: {:.3f}..'.format(val_loss/ total),\n",
        "          'Val accuracy: {:.3f}'.format(val_accuracy))\n",
        "\n",
        "    wandb.log({ \"train_accuracy\": train_accuracy,\n",
        "               \"val_accuracy\": val_accuracy,\n",
        "                \"train_loss\": running_loss,\n",
        "                \"val_loss\": val_loss,\n",
        "                \"best_val_accuracy\": best_val_accuracy,\n",
        "                \"best_epoch\": best_epoch })\n",
        "\n",
        "\n",
        "end = time.time()\n",
        "train_time = round(end - start)\n",
        "\n",
        "print(f'Training time: {str(train_time)} seconds.')\n",
        "\n",
        "wandb.log({'train_time': train_time})\n",
        "\n",
        "\n",
        "print('Finished Training')\n",
        "\n",
        "\n",
        "\n"
      ],
      "metadata": {
        "colab": {
          "base_uri": "https://localhost:8080/",
          "height": 1000
        },
        "id": "ZaERmaCV1sMN",
        "outputId": "a42e050a-664f-4b20-b060-b88258fa2015"
      },
      "execution_count": 17,
      "outputs": [
        {
          "output_type": "display_data",
          "data": {
            "text/plain": [
              "<IPython.core.display.HTML object>"
            ],
            "text/html": [
              "Tracking run with wandb version 0.15.12"
            ]
          },
          "metadata": {}
        },
        {
          "output_type": "display_data",
          "data": {
            "text/plain": [
              "<IPython.core.display.HTML object>"
            ],
            "text/html": [
              "Run data is saved locally in <code>/content/wandb/run-20231106_012200-78bd8pjy</code>"
            ]
          },
          "metadata": {}
        },
        {
          "output_type": "display_data",
          "data": {
            "text/plain": [
              "<IPython.core.display.HTML object>"
            ],
            "text/html": [
              "Syncing run <strong><a href='https://wandb.ai/tp3-td6/clasificaci%C3%B3n_img/runs/78bd8pjy' target=\"_blank\">red_final</a></strong> to <a href='https://wandb.ai/tp3-td6/clasificaci%C3%B3n_img' target=\"_blank\">Weights & Biases</a> (<a href='https://wandb.me/run' target=\"_blank\">docs</a>)<br/>"
            ]
          },
          "metadata": {}
        },
        {
          "output_type": "display_data",
          "data": {
            "text/plain": [
              "<IPython.core.display.HTML object>"
            ],
            "text/html": [
              " View project at <a href='https://wandb.ai/tp3-td6/clasificaci%C3%B3n_img' target=\"_blank\">https://wandb.ai/tp3-td6/clasificaci%C3%B3n_img</a>"
            ]
          },
          "metadata": {}
        },
        {
          "output_type": "display_data",
          "data": {
            "text/plain": [
              "<IPython.core.display.HTML object>"
            ],
            "text/html": [
              " View run at <a href='https://wandb.ai/tp3-td6/clasificaci%C3%B3n_img/runs/78bd8pjy' target=\"_blank\">https://wandb.ai/tp3-td6/clasificaci%C3%B3n_img/runs/78bd8pjy</a>"
            ]
          },
          "metadata": {}
        },
        {
          "output_type": "stream",
          "name": "stdout",
          "text": [
            "[1,   200] loss: 0.156\n",
            "[1,   400] loss: 0.278\n",
            "[1,   600] loss: 0.386\n",
            "Guardando el modelo para la época 0.\n",
            "Epoch: 1/30.. Training loss: 0.000.. Val loss: 0.000.. Val accuracy: 64.510\n",
            "[2,   200] loss: 0.098\n",
            "[2,   400] loss: 0.188\n",
            "[2,   600] loss: 0.276\n",
            "Guardando el modelo para la época 1.\n",
            "Epoch: 2/30.. Training loss: 0.000.. Val loss: 0.000.. Val accuracy: 69.670\n",
            "[3,   200] loss: 0.080\n",
            "[3,   400] loss: 0.160\n",
            "[3,   600] loss: 0.238\n",
            "Guardando el modelo para la época 2.\n",
            "Epoch: 3/30.. Training loss: 0.000.. Val loss: 0.000.. Val accuracy: 73.310\n",
            "[4,   200] loss: 0.071\n",
            "[4,   400] loss: 0.142\n",
            "[4,   600] loss: 0.211\n",
            "Guardando el modelo para la época 3.\n",
            "Epoch: 4/30.. Training loss: 0.000.. Val loss: 0.000.. Val accuracy: 75.230\n",
            "[5,   200] loss: 0.064\n",
            "[5,   400] loss: 0.129\n",
            "[5,   600] loss: 0.193\n",
            "Guardando el modelo para la época 4.\n",
            "Epoch: 5/30.. Training loss: 0.000.. Val loss: 0.000.. Val accuracy: 75.950\n",
            "[6,   200] loss: 0.059\n",
            "[6,   400] loss: 0.117\n",
            "[6,   600] loss: 0.176\n",
            "Guardando el modelo para la época 5.\n",
            "Epoch: 6/30.. Training loss: 0.000.. Val loss: 0.000.. Val accuracy: 76.770\n",
            "[7,   200] loss: 0.054\n",
            "[7,   400] loss: 0.107\n",
            "[7,   600] loss: 0.160\n",
            "Guardando el modelo para la época 6.\n",
            "Epoch: 7/30.. Training loss: 0.000.. Val loss: 0.000.. Val accuracy: 77.900\n",
            "[8,   200] loss: 0.050\n",
            "[8,   400] loss: 0.100\n",
            "[8,   600] loss: 0.149\n",
            "Guardando el modelo para la época 7.\n",
            "Epoch: 8/30.. Training loss: 0.000.. Val loss: 0.000.. Val accuracy: 78.200\n",
            "[9,   200] loss: 0.044\n",
            "[9,   400] loss: 0.089\n",
            "[9,   600] loss: 0.136\n",
            "Guardando el modelo para la época 8.\n",
            "Epoch: 9/30.. Training loss: 0.000.. Val loss: 0.000.. Val accuracy: 79.750\n",
            "[10,   200] loss: 0.041\n",
            "[10,   400] loss: 0.082\n",
            "[10,   600] loss: 0.123\n",
            "Guardando el modelo para la época 8.\n",
            "Epoch: 10/30.. Training loss: 0.000.. Val loss: 0.000.. Val accuracy: 78.810\n",
            "[11,   200] loss: 0.037\n",
            "[11,   400] loss: 0.075\n",
            "[11,   600] loss: 0.114\n",
            "Guardando el modelo para la época 8.\n",
            "Epoch: 11/30.. Training loss: 0.000.. Val loss: 0.000.. Val accuracy: 79.280\n",
            "[12,   200] loss: 0.033\n",
            "[12,   400] loss: 0.068\n",
            "[12,   600] loss: 0.105\n",
            "Guardando el modelo para la época 11.\n",
            "Epoch: 12/30.. Training loss: 0.000.. Val loss: 0.000.. Val accuracy: 80.220\n",
            "[13,   200] loss: 0.030\n",
            "[13,   400] loss: 0.063\n",
            "[13,   600] loss: 0.095\n",
            "Guardando el modelo para la época 12.\n",
            "Epoch: 13/30.. Training loss: 0.000.. Val loss: 0.000.. Val accuracy: 80.600\n",
            "[14,   200] loss: 0.029\n",
            "[14,   400] loss: 0.059\n",
            "[14,   600] loss: 0.089\n",
            "Guardando el modelo para la época 13.\n",
            "Epoch: 14/30.. Training loss: 0.000.. Val loss: 0.000.. Val accuracy: 80.780\n",
            "[15,   200] loss: 0.026\n",
            "[15,   400] loss: 0.053\n",
            "[15,   600] loss: 0.080\n",
            "Guardando el modelo para la época 14.\n",
            "Epoch: 15/30.. Training loss: 0.000.. Val loss: 0.000.. Val accuracy: 80.820\n",
            "[16,   200] loss: 0.023\n",
            "[16,   400] loss: 0.047\n",
            "[16,   600] loss: 0.072\n",
            "Guardando el modelo para la época 15.\n",
            "Epoch: 16/30.. Training loss: 0.000.. Val loss: 0.000.. Val accuracy: 81.230\n",
            "[17,   200] loss: 0.021\n",
            "[17,   400] loss: 0.044\n",
            "[17,   600] loss: 0.067\n",
            "Guardando el modelo para la época 16.\n",
            "Epoch: 17/30.. Training loss: 0.000.. Val loss: 0.000.. Val accuracy: 81.790\n",
            "[18,   200] loss: 0.019\n",
            "[18,   400] loss: 0.040\n",
            "[18,   600] loss: 0.060\n",
            "Guardando el modelo para la época 17.\n",
            "Epoch: 18/30.. Training loss: 0.000.. Val loss: 0.000.. Val accuracy: 81.820\n",
            "[19,   200] loss: 0.018\n",
            "[19,   400] loss: 0.036\n",
            "[19,   600] loss: 0.056\n",
            "Guardando el modelo para la época 17.\n",
            "Epoch: 19/30.. Training loss: 0.000.. Val loss: 0.000.. Val accuracy: 80.850\n",
            "[20,   200] loss: 0.016\n",
            "[20,   400] loss: 0.033\n",
            "[20,   600] loss: 0.050\n",
            "Guardando el modelo para la época 17.\n",
            "Epoch: 20/30.. Training loss: 0.000.. Val loss: 0.000.. Val accuracy: 81.210\n",
            "[21,   200] loss: 0.014\n",
            "[21,   400] loss: 0.029\n",
            "[21,   600] loss: 0.045\n",
            "Guardando el modelo para la época 17.\n",
            "Epoch: 21/30.. Training loss: 0.000.. Val loss: 0.000.. Val accuracy: 80.570\n",
            "[22,   200] loss: 0.012\n",
            "[22,   400] loss: 0.027\n",
            "[22,   600] loss: 0.042\n",
            "Guardando el modelo para la época 17.\n",
            "Epoch: 22/30.. Training loss: 0.000.. Val loss: 0.000.. Val accuracy: 81.800\n",
            "[23,   200] loss: 0.012\n",
            "[23,   400] loss: 0.024\n",
            "[23,   600] loss: 0.038\n",
            "Guardando el modelo para la época 17.\n",
            "Epoch: 23/30.. Training loss: 0.000.. Val loss: 0.000.. Val accuracy: 80.450\n",
            "[24,   200] loss: 0.011\n",
            "[24,   400] loss: 0.023\n",
            "[24,   600] loss: 0.035\n",
            "Guardando el modelo para la época 17.\n",
            "Epoch: 24/30.. Training loss: 0.000.. Val loss: 0.000.. Val accuracy: 80.960\n",
            "[25,   200] loss: 0.011\n",
            "[25,   400] loss: 0.021\n",
            "[25,   600] loss: 0.032\n",
            "Guardando el modelo para la época 24.\n",
            "Epoch: 25/30.. Training loss: 0.000.. Val loss: 0.000.. Val accuracy: 82.060\n",
            "[26,   200] loss: 0.009\n",
            "[26,   400] loss: 0.020\n",
            "[26,   600] loss: 0.031\n",
            "Guardando el modelo para la época 24.\n",
            "Epoch: 26/30.. Training loss: 0.000.. Val loss: 0.000.. Val accuracy: 81.680\n",
            "[27,   200] loss: 0.009\n",
            "[27,   400] loss: 0.018\n",
            "[27,   600] loss: 0.028\n",
            "Guardando el modelo para la época 24.\n",
            "Epoch: 27/30.. Training loss: 0.000.. Val loss: 0.000.. Val accuracy: 81.820\n",
            "[28,   200] loss: 0.008\n",
            "[28,   400] loss: 0.016\n",
            "[28,   600] loss: 0.025\n",
            "Guardando el modelo para la época 24.\n",
            "Epoch: 28/30.. Training loss: 0.000.. Val loss: 0.000.. Val accuracy: 81.450\n",
            "[29,   200] loss: 0.007\n",
            "[29,   400] loss: 0.015\n",
            "[29,   600] loss: 0.024\n",
            "Guardando el modelo para la época 24.\n",
            "Epoch: 29/30.. Training loss: 0.000.. Val loss: 0.000.. Val accuracy: 80.590\n",
            "[30,   200] loss: 0.008\n",
            "[30,   400] loss: 0.015\n",
            "[30,   600] loss: 0.023\n",
            "Guardando el modelo para la época 24.\n",
            "Epoch: 30/30.. Training loss: 0.000.. Val loss: 0.000.. Val accuracy: 81.290\n",
            "Training time: 679 seconds.\n",
            "Finished Training\n"
          ]
        }
      ]
    },
    {
      "cell_type": "code",
      "source": [
        "wandb.finish()"
      ],
      "metadata": {
        "colab": {
          "base_uri": "https://localhost:8080/",
          "height": 398,
          "referenced_widgets": [
            "0c9ba9f86755424b9e0d0d422c026b63",
            "b3308e6c1d0043a5898efb4ba4effe6d",
            "6d15e6442e754d15b62b94561b5c2448",
            "ff62ea3e44894d1b88d4fb2943b35168",
            "05a651c2b0ad4144a15d7fce700db17b",
            "a915d796226243378cbd5d7326958109",
            "bafa78cb556f47f2bfc4319331e8377e",
            "15fb34560b004cfda81fc29993205840"
          ]
        },
        "id": "VQX6Gyx8OH07",
        "outputId": "6ce12e4b-0e1d-4703-f0c0-e5208e42e018"
      },
      "execution_count": 18,
      "outputs": [
        {
          "output_type": "display_data",
          "data": {
            "text/plain": [
              "<IPython.core.display.HTML object>"
            ],
            "text/html": [
              "Waiting for W&B process to finish... <strong style=\"color:green\">(success).</strong>"
            ]
          },
          "metadata": {}
        },
        {
          "output_type": "display_data",
          "data": {
            "text/plain": [
              "VBox(children=(Label(value='0.001 MB of 0.001 MB uploaded (0.000 MB deduped)\\r'), FloatProgress(value=1.0, max…"
            ],
            "application/vnd.jupyter.widget-view+json": {
              "version_major": 2,
              "version_minor": 0,
              "model_id": "0c9ba9f86755424b9e0d0d422c026b63"
            }
          },
          "metadata": {}
        },
        {
          "output_type": "display_data",
          "data": {
            "text/plain": [
              "<IPython.core.display.HTML object>"
            ],
            "text/html": [
              "<style>\n",
              "    table.wandb td:nth-child(1) { padding: 0 10px; text-align: left ; width: auto;} td:nth-child(2) {text-align: left ; width: 100%}\n",
              "    .wandb-row { display: flex; flex-direction: row; flex-wrap: wrap; justify-content: flex-start; width: 100% }\n",
              "    .wandb-col { display: flex; flex-direction: column; flex-basis: 100%; flex: 1; padding: 10px; }\n",
              "    </style>\n",
              "<div class=\"wandb-row\"><div class=\"wandb-col\"><h3>Run history:</h3><br/><table class=\"wandb\"><tr><td>best_epoch</td><td>▁▁▂▂▂▂▃▃▃▃▃▄▅▅▅▅▆▆▆▆▆▆▆▆██████</td></tr><tr><td>best_val_accuracy</td><td>▁▃▅▅▆▆▆▆▇▇▇▇▇▇████████████████</td></tr><tr><td>train_accuracy</td><td>▁▃▄▄▅▅▅▆▆▆▆▆▇▇▇▇▇▇▇▇██████████</td></tr><tr><td>train_loss</td><td>█▆▅▅▄▄▄▃▃▃▃▃▂▂▂▂▂▂▂▂▁▁▁▁▁▁▁▁▁▁</td></tr><tr><td>train_time</td><td>▁</td></tr><tr><td>val_accuracy</td><td>▁▃▅▅▆▆▆▆▇▇▇▇▇▇██████▇█▇█████▇█</td></tr><tr><td>val_loss</td><td>█▆▄▃▃▃▂▂▁▂▂▁▁▁▁▁▁▁▂▂▂▂▃▂▂▂▃▃▄▃</td></tr></table><br/></div><div class=\"wandb-col\"><h3>Run summary:</h3><br/><table class=\"wandb\"><tr><td>best_epoch</td><td>24</td></tr><tr><td>best_val_accuracy</td><td>82.06</td></tr><tr><td>train_accuracy</td><td>97.53</td></tr><tr><td>train_loss</td><td>0.0012</td></tr><tr><td>train_time</td><td>679</td></tr><tr><td>val_accuracy</td><td>81.29</td></tr><tr><td>val_loss</td><td>0.01121</td></tr></table><br/></div></div>"
            ]
          },
          "metadata": {}
        },
        {
          "output_type": "display_data",
          "data": {
            "text/plain": [
              "<IPython.core.display.HTML object>"
            ],
            "text/html": [
              " View run <strong style=\"color:#cdcd00\">red_final</strong> at: <a href='https://wandb.ai/tp3-td6/clasificaci%C3%B3n_img/runs/78bd8pjy' target=\"_blank\">https://wandb.ai/tp3-td6/clasificaci%C3%B3n_img/runs/78bd8pjy</a><br/>Synced 5 W&B file(s), 0 media file(s), 0 artifact file(s) and 0 other file(s)"
            ]
          },
          "metadata": {}
        },
        {
          "output_type": "display_data",
          "data": {
            "text/plain": [
              "<IPython.core.display.HTML object>"
            ],
            "text/html": [
              "Find logs at: <code>./wandb/run-20231106_012200-78bd8pjy/logs</code>"
            ]
          },
          "metadata": {}
        }
      ]
    },
    {
      "cell_type": "markdown",
      "source": [
        "### Guardado del modelo final"
      ],
      "metadata": {
        "id": "8WHPEahscTGR"
      }
    },
    {
      "cell_type": "markdown",
      "metadata": {
        "id": "4sybETOrsNg0"
      },
      "source": [
        "Ejemplo de guardar el modelo. Sin embargo lo deberiamos guardar para el que mejor dio en validation.\n",
        "\n"
      ]
    },
    {
      "cell_type": "code",
      "execution_count": 26,
      "metadata": {
        "id": "JrkzBBMesNg1"
      },
      "outputs": [],
      "source": [
        "PATH = './{}.pth'.format(experiment_name)\n",
        "torch.save(net.state_dict(), PATH)"
      ]
    },
    {
      "cell_type": "markdown",
      "source": [
        "### Cargamos el modelo (el mejor) y evaluamos en un ejemplo."
      ],
      "metadata": {
        "id": "IJ1T3AMTepFJ"
      }
    },
    {
      "cell_type": "code",
      "source": [
        "dataiter = iter(testloader)\n",
        "data = next(dataiter)\n",
        "test_images, test_labels = data"
      ],
      "metadata": {
        "id": "yGlcQPGphfaV"
      },
      "execution_count": 28,
      "outputs": []
    },
    {
      "cell_type": "code",
      "execution_count": 30,
      "metadata": {
        "id": "YTJZVzoPsNg1",
        "colab": {
          "base_uri": "https://localhost:8080/"
        },
        "outputId": "d8683f35-a0b6-4771-b1db-6b027d8b991f"
      },
      "outputs": [
        {
          "output_type": "stream",
          "name": "stdout",
          "text": [
            "Predicted:  cat   car   car   plane frog  frog  car   frog  cat   truck\n"
          ]
        }
      ],
      "source": [
        "# net = red_final()\n",
        "# net.load_state_dict(torch.load(PATH))\n",
        "# device = 'cpu'\n",
        "\n",
        "test_images, test_labels = data[0].to(device), data[1].to(device)\n",
        "outputs = net(test_images)\n",
        "_, predicted = torch.max(outputs, 1)\n",
        "\n",
        "print('Predicted: ', ' '.join(f'{classes[predicted[j]]:5s}'\n",
        "                              for j in range(10)))"
      ]
    },
    {
      "cell_type": "markdown",
      "metadata": {
        "id": "z_SKvlgNsNg1"
      },
      "source": [
        "\n",
        "Evaluamos en el set de test\n",
        "\n"
      ]
    },
    {
      "cell_type": "code",
      "execution_count": 33,
      "metadata": {
        "id": "t3QM7I-ysNg1",
        "colab": {
          "base_uri": "https://localhost:8080/"
        },
        "outputId": "120dd911-01b0-4c90-899e-23d54463bb61"
      },
      "outputs": [
        {
          "output_type": "stream",
          "name": "stdout",
          "text": [
            "Accuracy of the network on the 10000 test images: 80 %\n"
          ]
        }
      ],
      "source": [
        "correct = 0\n",
        "total = 0\n",
        "# since we're not training, we don't need to calculate the gradients for our outputs\n",
        "with torch.no_grad():\n",
        "    for data in testloader:\n",
        "        images, labels = data\n",
        "        images = images.to(device)\n",
        "        labels = labels.to(device)\n",
        "        # calculate outputs by running images through the network\n",
        "        outputs = net(images)\n",
        "        # the class with the highest energy is what we choose as prediction\n",
        "        _, predicted = torch.max(outputs.data, 1)\n",
        "        total += labels.size(0)\n",
        "        correct += (predicted == labels).sum().item()\n",
        "\n",
        "print(f'Accuracy of the network on the 10000 test images: {100 * correct // total} %')"
      ]
    },
    {
      "cell_type": "markdown",
      "metadata": {
        "id": "soIwtaJOsNg1"
      },
      "source": [
        "Algo estamos aprendiendo! Si fuese random, seria 10% accuracy (elegir random entre 10 clases).\n",
        "Algunas clases se comportan peor que otras.\n"
      ]
    },
    {
      "cell_type": "code",
      "execution_count": 35,
      "metadata": {
        "id": "DpzXC8NnsNg1",
        "colab": {
          "base_uri": "https://localhost:8080/"
        },
        "outputId": "d45d566a-4497-4cd7-e964-0c12141c0b78"
      },
      "outputs": [
        {
          "output_type": "stream",
          "name": "stdout",
          "text": [
            "Accuracy for class: plane is 77.5 %\n",
            "Accuracy for class: car   is 92.3 %\n",
            "Accuracy for class: bird  is 68.6 %\n",
            "Accuracy for class: cat   is 69.4 %\n",
            "Accuracy for class: deer  is 82.2 %\n",
            "Accuracy for class: dog   is 73.8 %\n",
            "Accuracy for class: frog  is 85.2 %\n",
            "Accuracy for class: horse is 83.8 %\n",
            "Accuracy for class: ship  is 87.0 %\n",
            "Accuracy for class: truck is 89.4 %\n"
          ]
        }
      ],
      "source": [
        "# prepare to count predictions for each class\n",
        "correct_pred = {classname: 0 for classname in classes}\n",
        "total_pred = {classname: 0 for classname in classes}\n",
        "\n",
        "# again no gradients needed\n",
        "with torch.no_grad():\n",
        "    for data in testloader:\n",
        "        images, labels = data\n",
        "        images = images.to(device)\n",
        "        labels = labels.to(device)\n",
        "        outputs = net(images)\n",
        "        _, predictions = torch.max(outputs, 1)\n",
        "        # collect the correct predictions for each class\n",
        "        for label, prediction in zip(labels, predictions):\n",
        "            if label == prediction:\n",
        "                correct_pred[classes[label]] += 1\n",
        "            total_pred[classes[label]] += 1\n",
        "\n",
        "\n",
        "# print accuracy for each class\n",
        "for classname, correct_count in correct_pred.items():\n",
        "    accuracy = 100 * float(correct_count) / total_pred[classname]\n",
        "    print(f'Accuracy for class: {classname:5s} is {accuracy:.1f} %')"
      ]
    }
  ]
}